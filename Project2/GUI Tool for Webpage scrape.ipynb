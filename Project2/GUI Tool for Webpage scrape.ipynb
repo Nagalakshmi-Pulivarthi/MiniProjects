{
 "cells": [
  {
   "cell_type": "code",
   "execution_count": 14,
   "id": "c00dc359",
   "metadata": {},
   "outputs": [],
   "source": [
    "import requests\n",
    "from bs4 import BeautifulSoup\n",
    "import tkinter as tk\n",
    "\n",
    "# Function to scrape the webpage title\n",
    "def title_scrape():\n",
    "    url = url_entry.get()\n",
    "    \n",
    "    try:\n",
    "        # Fetch the webpage\n",
    "        response = requests.get(url)\n",
    "        response.raise_for_status()  # Check for HTTP errors\n",
    "        \n",
    "        # Parse the HTML content\n",
    "        soup = BeautifulSoup(response.text, 'html.parser')\n",
    "       \n",
    "        \n",
    "        # Get the title of the webpage\n",
    "        title = soup.title.string if soup.title else \"No title found\"\n",
    "        \n",
    "        \n",
    "        # Update the label with the title\n",
    "        result_label.config(text=f\"Title: {title}\", bg='pink', fg='#00695c')\n",
    "        \n",
    "        \n",
    "    except requests.exceptions.RequestException as e:\n",
    "        result_label.config(text=f\"Error: Failed to retrieve webpage.\\n{e}\", bg='#ffebee', fg='#d32f2f')\n",
    "\n"
   ]
  },
  {
   "cell_type": "code",
   "execution_count": null,
   "id": "b2e120db",
   "metadata": {},
   "outputs": [],
   "source": [
    "# Set up the Tkinter GUI\n",
    "root = tk.Tk()\n",
    "root.title(\"News Web Scraper\")\n",
    "\n",
    "# Frame for URL entry\n",
    "input_frame = tk.Frame(root)\n",
    "input_frame.pack(pady=10)\n",
    "\n",
    "# URL entry field with shorter width\n",
    "tk.Label(input_frame, text=\"Enter URL:\", font=(\"Bold\", 13)).pack(side=tk.LEFT, padx=5)\n",
    "url_entry = tk.Entry(input_frame, width=40, font=(\"Arial\", 12))  # Adjusted width\n",
    "url_entry.pack(side=tk.LEFT, padx=5)\n",
    "\n",
    "# Scrape button\n",
    "scrape_button = tk.Button(root, text=\"Scrape Title\", command=title_scrape, bg=\"lightgreen\", fg=\"black\", font=(\"Arial\", 12), padx=10, pady=5)\n",
    "scrape_button.pack(pady=10)\n",
    "\n",
    "# Label to display the result (the webpage title), with a styled background and text\n",
    "result_label = tk.Label(root, text=\"\", wraplength=300, justify=\"left\", font=(\"Bold\", 12), bg='#f0f0f0', padx=10, pady=10)\n",
    "result_label.pack(pady=10, fill=\"both\", expand=True)\n",
    "\n",
    "# Run the Tkinter event loop\n",
    "root.mainloop()\n"
   ]
  },
  {
   "cell_type": "code",
   "execution_count": null,
   "id": "8786e4c7",
   "metadata": {},
   "outputs": [],
   "source": []
  }
 ],
 "metadata": {
  "kernelspec": {
   "display_name": "Python 3 (ipykernel)",
   "language": "python",
   "name": "python3"
  },
  "language_info": {
   "codemirror_mode": {
    "name": "ipython",
    "version": 3
   },
   "file_extension": ".py",
   "mimetype": "text/x-python",
   "name": "python",
   "nbconvert_exporter": "python",
   "pygments_lexer": "ipython3",
   "version": "3.11.5"
  }
 },
 "nbformat": 4,
 "nbformat_minor": 5
}
